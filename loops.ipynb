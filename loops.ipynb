{
 "cells": [
  {
   "cell_type": "markdown",
   "metadata": {},
   "source": [
    "# Lopps\n",
    "* FOR\n",
    "- step based loop👍\n",
    "    - repeating a step\n",
    "    - enumeration\n",
    "    - traversing iterables\n",
    "* WHILE\n",
    "* condition based loop 👌\n",
    "    "
   ]
  },
  {
   "cell_type": "code",
   "execution_count": 1,
   "metadata": {},
   "outputs": [
    {
     "data": {
      "text/plain": [
       "range(1, 20)"
      ]
     },
     "execution_count": 1,
     "metadata": {},
     "output_type": "execute_result"
    }
   ],
   "source": [
    "range(1,20)"
   ]
  },
  {
   "cell_type": "markdown",
   "metadata": {},
   "source": [
    "# for var in iterables:\n",
    "---statements\n",
    "\n"
   ]
  },
  {
   "cell_type": "code",
   "execution_count": 5,
   "metadata": {},
   "outputs": [
    {
     "name": "stdout",
     "output_type": "stream",
     "text": [
      "0, 1, 2, 3, 4, 5, 6, 7, 8, 9, "
     ]
    }
   ],
   "source": [
    "for item in range(10):\n",
    "     print(item, end = ', ')"
   ]
  },
  {
   "cell_type": "code",
   "execution_count": 6,
   "metadata": {},
   "outputs": [
    {
     "name": "stdout",
     "output_type": "stream",
     "text": [
      "-10 -9 -8 -7 -6 -5 -4 -3 -2 -1 0 1 2 3 4 5 6 7 8 9 "
     ]
    }
   ],
   "source": [
    "for i in range (-10,10):\n",
    "    print(i,end= ' ')"
   ]
  },
  {
   "cell_type": "code",
   "execution_count": 8,
   "metadata": {},
   "outputs": [
    {
     "name": "stdout",
     "output_type": "stream",
     "text": [
      "-10 -8 -6 -4 -2 0 2 4 6 8 "
     ]
    }
   ],
   "source": [
    "for i in range (-10,10,2):\n",
    "    print(i,end= ' ')"
   ]
  },
  {
   "cell_type": "code",
   "execution_count": 9,
   "metadata": {},
   "outputs": [
    {
     "name": "stdout",
     "output_type": "stream",
     "text": [
      "15 14 13 12 11 10 9 8 7 6 5 4 3 2 1 "
     ]
    }
   ],
   "source": [
    "# reverse\n",
    "for i in range(15,0,-1):\n",
    "    print(i, end= ' ')\n"
   ]
  },
  {
   "cell_type": "code",
   "execution_count": 11,
   "metadata": {},
   "outputs": [
    {
     "name": "stdout",
     "output_type": "stream",
     "text": [
      "2, 4, 6, 8, 10, 12, 14, 16, 18, 20, 22, 24, 26, 28, 30, 32, 34, 36, 38, 40, 42, 44, 46, 48, 50, 52, 54, 56, 58, 60, 62, 64, 66, 68, 70, 72, 74, 76, 78, 80, 82, 84, 86, 88, 90, 92, 94, 96, 98, "
     ]
    }
   ],
   "source": [
    "for i in range(2, 100,2):\n",
    "    print(i,end = \", \")"
   ]
  },
  {
   "cell_type": "code",
   "execution_count": 12,
   "metadata": {},
   "outputs": [
    {
     "name": "stdout",
     "output_type": "stream",
     "text": [
      "hello\n",
      "hello\n",
      "hello\n",
      "hello\n",
      "hello\n"
     ]
    }
   ],
   "source": [
    "for _ in  range (5):\n",
    "    print('hello')"
   ]
  },
  {
   "cell_type": "code",
   "execution_count": 13,
   "metadata": {},
   "outputs": [],
   "source": [
    "# all variables are iterable\n",
    "name = \"Albert Einstein\"\n",
    "words = [\"Hi\", \"Hello\", \"Hola\", \"Aloha\"]# List\n",
    "colors = ('red','yellow','blue')# tuple\n",
    "numbers = (1,2,3,4,5,6,7,8,9)# set"
   ]
  },
  {
   "cell_type": "code",
   "execution_count": 15,
   "metadata": {},
   "outputs": [
    {
     "name": "stdout",
     "output_type": "stream",
     "text": [
      "A l b e r t   E i n s t e i n \n",
      "Hi Hello Hola Aloha \n",
      "red yellow blue \n",
      "1 2 3 4 5 6 7 8 9 "
     ]
    }
   ],
   "source": [
    "for char in name :\n",
    "    print(char, end=' ')\n",
    "print()\n",
    "for word in words:\n",
    "    print(word, end=' ')\n",
    "print()\n",
    "for c in colors:\n",
    "    print(c,end= ' ')\n",
    "print()\n",
    "for i in numbers:\n",
    "    print(i,end=' ')"
   ]
  },
  {
   "cell_type": "code",
   "execution_count": 21,
   "metadata": {},
   "outputs": [
    {
     "name": "stdout",
     "output_type": "stream",
     "text": [
      "0 Harsh\n",
      "1 Ayush\n",
      "2 Aman\n",
      "3 Naman\n",
      "4 Kratagya\n",
      "5 Shashank\n",
      "6 Tushar\n",
      "7 Shivansh\n"
     ]
    }
   ],
   "source": [
    "# enumerate\n",
    "names = ['Harsh','Ayush','Aman','Naman','Kratagya','Shashank','Tushar','Shivansh']\n",
    "for idx, val in enumerate(names):\n",
    "    print(idx, val)\n"
   ]
  },
  {
   "cell_type": "code",
   "execution_count": 22,
   "metadata": {},
   "outputs": [
    {
     "name": "stdout",
     "output_type": "stream",
     "text": [
      "Harsh Srivastava\n",
      "Ayush Singh\n",
      "Aman Raza\n",
      "Naman Jaiswal\n",
      "Kratagya Jaiswal\n",
      "Shashank Gupta\n",
      "Tushar Saxena\n",
      "Shivansh Srivastava\n"
     ]
    }
   ],
   "source": [
    "surnames = ['Srivastava','Singh','Raza','Jaiswal','Jaiswal','Gupta','Saxena','Srivastava']\n",
    "for fname, lname in zip(names, surnames):\n",
    "    print(fname, lname)"
   ]
  },
  {
   "cell_type": "code",
   "execution_count": 24,
   "metadata": {},
   "outputs": [
    {
     "name": "stdout",
     "output_type": "stream",
     "text": [
      "1 2 3 4 6 7 "
     ]
    }
   ],
   "source": [
    "x = [1,2,0,3,0,4,5,0,6,7]\n",
    "for i in x:\n",
    "    if i == 0 or i == 5:\n",
    "        continue\n",
    "    print(i, end=' ')"
   ]
  },
  {
   "cell_type": "code",
   "execution_count": 25,
   "metadata": {},
   "outputs": [
    {
     "name": "stdout",
     "output_type": "stream",
     "text": [
      "1 2 "
     ]
    }
   ],
   "source": [
    "for i in x:\n",
    "    if i == 0:\n",
    "        break\n",
    "    print(i,end =' ')"
   ]
  },
  {
   "cell_type": "code",
   "execution_count": 26,
   "metadata": {},
   "outputs": [],
   "source": [
    "x = []\n",
    "for i in x:\n",
    "    print(i, end = ' ')\n",
    "    "
   ]
  },
  {
   "cell_type": "code",
   "execution_count": 30,
   "metadata": {},
   "outputs": [
    {
     "name": "stdout",
     "output_type": "stream",
     "text": [
      "Hello Ayush \n",
      "Hello Shivansh\n",
      "Hello Manak\n",
      "Hello Mayanak\n",
      "Hello Shashank\n",
      "well done🔥🔥\n"
     ]
    }
   ],
   "source": [
    "# for - else\n",
    "for i in range(5):\n",
    "    name = input('Enter any name of person: ')\n",
    "    if name:\n",
    "        print(f'Hello {name}')\n",
    "    else: \n",
    "        break\n",
    "else:\n",
    "    print(\"well done🔥🔥\")"
   ]
  },
  {
   "cell_type": "code",
   "execution_count": 35,
   "metadata": {},
   "outputs": [
    {
     "name": "stdout",
     "output_type": "stream",
     "text": [
      "0\n",
      "10\n",
      "20\n",
      "30\n",
      "40\n"
     ]
    }
   ],
   "source": [
    "n = 0 \n",
    "while n < 100:\n",
    "    print(n)\n",
    "    n += 10\n",
    "    if n == 50:\n",
    "        break\n",
    "        print(n,end =\" \")\n"
   ]
  },
  {
   "cell_type": "code",
   "execution_count": 38,
   "metadata": {},
   "outputs": [
    {
     "name": "stdout",
     "output_type": "stream",
     "text": [
      "7484👍👍\n",
      "748484👍👍\n",
      "0😒\n"
     ]
    }
   ],
   "source": [
    "# infinite loop controlled by user\n",
    "while True:\n",
    "    num = int(input(\"enter a number greater than 100: \"))\n",
    "    if num>100:\n",
    "        print(f'{num}👍👍')\n",
    "    else:\n",
    "        print(f'{num}😒')\n",
    "        break                                                                                       "
   ]
  },
  {
   "cell_type": "code",
   "execution_count": 39,
   "metadata": {},
   "outputs": [
    {
     "name": "stdout",
     "output_type": "stream",
     "text": [
      "\n",
      "*\n",
      "**\n",
      "***\n",
      "****\n",
      "*****\n",
      "******\n",
      "*******\n",
      "********\n",
      "*********\n",
      "**********\n",
      "***********\n",
      "************\n"
     ]
    }
   ],
   "source": [
    "for i in range (13):\n",
    "    print(i * \"*\")"
   ]
  },
  {
   "cell_type": "code",
   "execution_count": null,
   "metadata": {},
   "outputs": [],
   "source": []
  }
 ],
 "metadata": {
  "kernelspec": {
   "display_name": "base",
   "language": "python",
   "name": "python3"
  },
  "language_info": {
   "codemirror_mode": {
    "name": "ipython",
    "version": 3
   },
   "file_extension": ".py",
   "mimetype": "text/x-python",
   "name": "python",
   "nbconvert_exporter": "python",
   "pygments_lexer": "ipython3",
   "version": "3.11.4"
  }
 },
 "nbformat": 4,
 "nbformat_minor": 2
}
